{
 "cells": [
  {
   "cell_type": "markdown",
   "id": "36cae130-0758-47ad-be32-082961c02145",
   "metadata": {},
   "source": [
    "# using pdfminer package to convert PDF files to Excel"
   ]
  },
  {
   "cell_type": "code",
   "execution_count": 11,
   "id": "734d0f97-7a71-4322-bc01-52041265e889",
   "metadata": {},
   "outputs": [
    {
     "name": "stdout",
     "output_type": "stream",
     "text": [
      "Collecting fn\n",
      "  Downloading fn-0.4.3.tar.gz (38 kB)\n",
      "Requirement already satisfied: pdfminer in c:\\users\\huzyfa\\anaconda3\\envs\\fn\\lib\\site-packages (20191125)\n",
      "Requirement already satisfied: pycryptodome in c:\\users\\huzyfa\\anaconda3\\envs\\fn\\lib\\site-packages (from pdfminer) (3.14.1)\n",
      "Building wheels for collected packages: fn\n",
      "  Building wheel for fn (setup.py): started\n",
      "  Building wheel for fn (setup.py): finished with status 'done'\n",
      "  Created wheel for fn: filename=fn-0.4.3-py3-none-any.whl size=28239 sha256=ed02682f9a905d7dc3a224cb919e0bb45709e47bf33fb2324a3b4dd8457bea7a\n",
      "  Stored in directory: c:\\users\\huzyfa\\appdata\\local\\pip\\cache\\wheels\\98\\45\\50\\490752374ae02c37a498bf5447e8b3caa594bc38677dee9962\n",
      "Successfully built fn\n",
      "Installing collected packages: fn\n",
      "Successfully installed fn-0.4.3\n"
     ]
    }
   ],
   "source": [
    "# !pip install pdfminer"
   ]
  },
  {
   "cell_type": "code",
   "execution_count": 1,
   "id": "e808c7aa-834a-449d-949d-718a640dfa9a",
   "metadata": {},
   "outputs": [],
   "source": [
    "# importing the pdftables_api package\n",
    "import pdfminer"
   ]
  },
  {
   "cell_type": "code",
   "execution_count": 2,
   "id": "f23fbb85-e31d-4ed3-abb7-f609ac3f6e32",
   "metadata": {
    "tags": []
   },
   "outputs": [],
   "source": [
    "# the input (pdf) files path\n",
    "pdf_path = r\"../pdf_files/\"\n",
    "\n",
    "# the output (excel) files path\n",
    "excel_path = r\"../excel_files/\"\n",
    "\n",
    "\n",
    "# the input (pdf) file name\n",
    "pdf_file_name = \"stc-annual-report-2021-new4.pdf\"\n",
    "\n",
    "# the output (excel) file name\n",
    "excel_file_name = \"stc-annual-report-2021-new4.xlsx\""
   ]
  },
  {
   "cell_type": "code",
   "execution_count": 17,
   "id": "c569ef96-6280-490f-850c-45f2973c32be",
   "metadata": {},
   "outputs": [],
   "source": [
    "# initialization, the api_key obtained after you create an account on the PDFTables.com website\n",
    "!pdf2txt.py first_pdf"
   ]
  }
 ],
 "metadata": {
  "kernelspec": {
   "display_name": "Python 3 (ipykernel)",
   "language": "python",
   "name": "python3"
  },
  "language_info": {
   "codemirror_mode": {
    "name": "ipython",
    "version": 3
   },
   "file_extension": ".py",
   "mimetype": "text/x-python",
   "name": "python",
   "nbconvert_exporter": "python",
   "pygments_lexer": "ipython3",
   "version": "3.9.7"
  }
 },
 "nbformat": 4,
 "nbformat_minor": 5
}
